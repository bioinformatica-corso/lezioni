{
 "cells": [
  {
   "cell_type": "markdown",
   "metadata": {},
   "source": [
    "# Esercizio 5\n",
    "\n",
    "Prendere in input un file in formato `GTF` (Gene Transfer Format) e il file `FASTA` della genomica di riferimento.\n",
    "\n",
    "In dipendenza di una determinata scelta, ricostruire tutte le sequenze di un certo tipo (trascritto o coding sequence o 5'UTR o 3'UTR) che sono annotate nel file GTF e salvarle, in formato FASTA, in un file.\n",
    "\n",
    "L'*header* `FASTA` di ogni sequenza prodotta deve contenere:\n",
    "\n",
    "- il nome del gene di riferimento\n",
    "- l’identificatore del trascritto di riferimento\n",
    "- la lunghezza della sequenza\n",
    "- il tipo di sequenza (trascritto oppure CDS oppure 5'UTR oppure 3'UTR)\n",
    "- lo *strand*\n",
    "    \n",
    "Esempio di *header* per un trascritto:\n",
    "         \n",
    "    >ARHGAP4; U52112.4-003; len=3235 type=exon; strand=-\n",
    "\n",
    "Esempio di *header* per una CDS:\n",
    "\n",
    "    >AVPR2; U52112.2-003; len=642; type=CDS; strand=+\n",
    "    \n",
    "Se si sceglie di ricostruire le *coding sequences*, produrre in standard output la loro separazione in codoni.\n",
    "   \n",
    "***\n"
   ]
  },
  {
   "cell_type": "markdown",
   "metadata": {},
   "source": [
    "## Dataset in input"
   ]
  },
  {
   "cell_type": "code",
   "execution_count": null,
   "metadata": {},
   "outputs": [],
   "source": [
    "gtf_file_name = './input.gtf'\n",
    "reference_file_name = './ENm006.fa'"
   ]
  },
  {
   "cell_type": "markdown",
   "metadata": {},
   "source": [
    "## Tipo di sequenza da ricostruire\n",
    "\n",
    "Valori possibili:\n",
    "\n",
    "- `exon`, se si vogliono ricostruire i trascritti\n",
    "- `CDS`, se si vogliono ricostruire le coding sequences\n",
    "- `5UTR`, se si vogliono ricostruire le 5'UTR\n",
    "- `3UTR`, se si vogliono ricostruire le 3'UTR"
   ]
  },
  {
   "cell_type": "code",
   "execution_count": null,
   "metadata": {},
   "outputs": [],
   "source": [
    "selected_feature = 'CDS'"
   ]
  },
  {
   "cell_type": "markdown",
   "metadata": {},
   "source": [
    "## Importare il modulo `re`"
   ]
  },
  {
   "cell_type": "code",
   "execution_count": null,
   "metadata": {},
   "outputs": [],
   "source": [
    "import re"
   ]
  },
  {
   "cell_type": "markdown",
   "metadata": {},
   "source": [
    "## Definire la funzione per estrarre il gene e il trascritto associati a una certa *feature*\n",
    "\n",
    "La funzione deve prendere come argomento un *record* GTF e restituire la tupla `(gene_name, transcript_id)` contenente il nome del gene e l'identificatore del trascritto associati al *record*.\n",
    "\n",
    "**NOTA BENE**: gli attributi all'interno del nono campo di un file `GTF` non hanno ordine fisso all'interno del campo."
   ]
  },
  {
   "cell_type": "code",
   "execution_count": null,
   "metadata": {},
   "outputs": [],
   "source": [
    "def get_gene_and_transcript(gtf_record):\n",
    "    gene_name = re.search(r'gene_id\\s\"(.+?)\";', gtf_record).group(1)\n",
    "    transcript_id = re.search(r'transcript_id\\s\"(.+?)\";', gtf_record).group(1)\n",
    "    \n",
    "    return (gene_name, transcript_id)"
   ]
  },
  {
   "cell_type": "markdown",
   "metadata": {},
   "source": [
    "## Definire la funzione che formatta una sequenza in `FASTA` \n",
    "\n",
    "Fare riferimento all'esercizio 3."
   ]
  },
  {
   "cell_type": "code",
   "execution_count": null,
   "metadata": {},
   "outputs": [],
   "source": [
    "def format_fasta(header, sequence, record = 80):    \n",
    "    p = re.compile('\\w{,' + str(record) + '}')\n",
    "    return header + '\\n' + '\\n'.join(re.findall(p, sequence))"
   ]
  },
  {
   "cell_type": "markdown",
   "metadata": {},
   "source": [
    "## Definire la funzione per restituire il *reverse and complement* di una sequenza nucleotidica\n",
    "\n",
    "La funzione deve prendere come argomento una sequenza nucleotidica e restituire il *reverse and complement* della sequenza in lettere maiuscole."
   ]
  },
  {
   "cell_type": "code",
   "execution_count": null,
   "metadata": {},
   "outputs": [],
   "source": [
    "def reverse_complement(nucleotide_sequence):\n",
    "    complement_dict = {'A' : 'T', 'T' : 'A', 'C' : 'G', 'G' : 'C'}\n",
    "    \n",
    "    return ''.join(complement_dict[b] for b in nucleotide_sequence[::-1].upper())"
   ]
  },
  {
   "cell_type": "code",
   "execution_count": null,
   "metadata": {},
   "outputs": [],
   "source": [
    "reverse_complement('AAACCC')"
   ]
  },
  {
   "cell_type": "markdown",
   "metadata": {},
   "source": [
    "## Definire la funzione che ricostruisce la sequenza di un certo tipo\n",
    "\n",
    "La funzione deve prendere i seguenti argomenti:\n",
    "- la lista delle *features* che compongono la sequenza da ricostruire\n",
    "- la sequenza della genomica di riferimento\n",
    "- lo *strand*\n",
    "\n",
    "Prevedere che ogni *feature* nella lista sia una tupla `(start, end, frame)` di dimensione tre, in cui i primi due valori sono le posizioni 1-based di inizio e fine della *feature* sulla genomica di riferimento. Il terzo elemento `frame` è diverso da `.` (dot) solo se si sta ricostruendo una coding sequence."
   ]
  },
  {
   "cell_type": "code",
   "execution_count": null,
   "metadata": {},
   "outputs": [],
   "source": [
    "def reconstruct_sequence(feature_list, reference_sequence, strand):\n",
    "    sequence = ''\n",
    "    feature_list.sort()\n",
    "    for x in feature_list:\n",
    "        sequence = sequence + reference_sequence[x[0]-1: x[1]]\n",
    "        \n",
    "    if strand == '-':\n",
    "        return reverse_complement(sequence)\n",
    "    else:\n",
    "        return sequence"
   ]
  },
  {
   "cell_type": "markdown",
   "metadata": {},
   "source": [
    "## Recuperare la genomica di riferimento"
   ]
  },
  {
   "cell_type": "code",
   "execution_count": null,
   "metadata": {},
   "outputs": [],
   "source": [
    "with open(reference_file_name, 'r') as input_file:\n",
    "    reference_sequence = ''.join(input_file.readlines()[1:]).replace('\\n', '')"
   ]
  },
  {
   "cell_type": "code",
   "execution_count": null,
   "metadata": {},
   "outputs": [],
   "source": [
    "reference_sequence"
   ]
  },
  {
   "cell_type": "markdown",
   "metadata": {},
   "source": [
    "## Ottenere dal file GTF i *record* che servono per ricostruire le sequenze del tipo scelto"
   ]
  },
  {
   "cell_type": "code",
   "execution_count": null,
   "metadata": {},
   "outputs": [],
   "source": [
    "with open(gtf_file_name, 'r') as input_file:\n",
    "    selected_gtf_records = [record for record in input_file.readlines() if record.split('\\t')[2] == selected_feature]"
   ]
  },
  {
   "cell_type": "code",
   "execution_count": null,
   "metadata": {},
   "outputs": [],
   "source": [
    "selected_gtf_records"
   ]
  },
  {
   "cell_type": "markdown",
   "metadata": {},
   "source": [
    "## Costruire il dizionario degli *strand*\n",
    "\n",
    "Solo per i geni per cui è stata annotata una sequenza del tipo scelto, creare il dizionario:\n",
    "\n",
    "- **chiave**: nome del gene\n",
    "- **valore**: *strand* del gene (rispetto al *reference*)"
   ]
  },
  {
   "cell_type": "code",
   "execution_count": null,
   "metadata": {},
   "outputs": [],
   "source": [
    "strand_dict = {}\n",
    "\n",
    "for record in selected_gtf_records:\n",
    "    strand = record.split('\\t')[6]\n",
    "    \n",
    "    (gene_name, transcript_id) = get_gene_and_transcript(record)\n",
    "    \n",
    "    strand_dict[gene_name] = strand"
   ]
  },
  {
   "cell_type": "code",
   "execution_count": null,
   "metadata": {},
   "outputs": [],
   "source": [
    "strand_dict"
   ]
  },
  {
   "cell_type": "markdown",
   "metadata": {},
   "source": [
    "## Ricostruire le sequenze del tipo scelto\n",
    "\n",
    "a) Costruire il dizionario degli identificatori dei trascritti:\n",
    "\n",
    "   - **chiave**: nome del gene\n",
    "   - **valore**: insieme degli identificatori dei trascritti per cui è annotata la sequenza del tipo scelto"
   ]
  },
  {
   "cell_type": "code",
   "execution_count": null,
   "metadata": {},
   "outputs": [],
   "source": [
    "gene_dict = {}\n",
    "\n",
    "for record in selected_gtf_records:\n",
    "    (gene_name, transcript_id) = get_gene_and_transcript(record)\n",
    "    \n",
    "    value = gene_dict.get(gene_name, set())\n",
    "    value.add(transcript_id)\n",
    "    gene_dict[gene_name] = value"
   ]
  },
  {
   "cell_type": "code",
   "execution_count": null,
   "metadata": {},
   "outputs": [],
   "source": [
    "gene_dict"
   ]
  },
  {
   "cell_type": "markdown",
   "metadata": {},
   "source": [
    "b) Costruire il dizionario delle *features* per trascritto:\n",
    "\n",
    "   - **chiave**: identificatore del trascritto\n",
    "   - **valore**: lista delle *features*, associate al trascritto, che compongono la sequenza del tipo scelto\n",
    "   \n",
    "Ogni *feature* nella lista deve essere rappresentata dalla tupla `(start, end, frame)` contenente le posizioni 1-based di inizio e fine della *feature* sul *reference* e il valore di *frame* della *feature* (che sarà un *dot* - assenza di informazione - nel caso si scelga di ricostruire sequenze diverse dalle *coding sequences*."
   ]
  },
  {
   "cell_type": "code",
   "execution_count": null,
   "metadata": {},
   "outputs": [],
   "source": [
    "composition_dict = {}\n",
    "\n",
    "for record in selected_gtf_records:\n",
    "    (gene_name, transcript_id) = get_gene_and_transcript(record)\n",
    "    \n",
    "    value = composition_dict.get(transcript_id, [])\n",
    "    \n",
    "    fields = record.split('\\t')\n",
    "    \n",
    "    tupla = (int(fields[3]), int(fields[4]), int(fields[7]))\n",
    "    value.append(tupla)\n",
    "    \n",
    "    composition_dict[transcript_id] = value"
   ]
  },
  {
   "cell_type": "code",
   "execution_count": null,
   "metadata": {},
   "outputs": [],
   "source": [
    "composition_dict"
   ]
  },
  {
   "cell_type": "markdown",
   "metadata": {},
   "source": [
    "c) Se si stanno ricostruendo coding sequences, ottenere (dal precedente) il dizionario dei valori di *frame* della prima *feature* CDS:\n",
    "\n",
    "   - **chiave**: identificatore di trascritto\n",
    "   - **valore**: *frame* della prima *feature* CDS"
   ]
  },
  {
   "cell_type": "code",
   "execution_count": null,
   "metadata": {},
   "outputs": [],
   "source": [
    "frame_dict = {}\n",
    "\n",
    "if selected_feature == 'CDS':\n",
    "    \n",
    "    for gene_name in gene_dict:\n",
    "        for transcript_id in gene_dict[gene_name]:\n",
    "            feature_list = composition_dict[transcript_id]\n",
    "            sorted_list = sorted(feature_list)\n",
    "                \n",
    "            if strand_dict[gene_name] == '+':\n",
    "                frame = sorted_list[0][2]\n",
    "            else:\n",
    "                frame = sorted_list[-1][2]\n",
    "                    \n",
    "            frame_dict[transcript_id] = int(frame)"
   ]
  },
  {
   "cell_type": "code",
   "execution_count": null,
   "metadata": {},
   "outputs": [],
   "source": [
    "frame_dict"
   ]
  },
  {
   "cell_type": "markdown",
   "metadata": {},
   "source": [
    "d) Ricostruire le sequenze e salvarle in un file `FASTA`\n",
    "\n",
    "Esempio di *header*:\n",
    "\n",
    "    >ARHGAP4; U52112.4-003; len=3235; type=[exon|CDS]; strand=-\n",
    "    \n",
    "**NB**: se si stanno ricostruendo le *coding sequences*, stampare anche in standard output la separazione in codoni tenendo conto del *frame* della prima *feature*."
   ]
  },
  {
   "cell_type": "code",
   "execution_count": null,
   "metadata": {
    "scrolled": false
   },
   "outputs": [],
   "source": [
    "with open('./output_file.fa', 'w') as output_file:\n",
    "    for gene_name in gene_dict:\n",
    "        for transcript_id in gene_dict[gene_name]:\n",
    "            r_sequence = reconstruct_sequence(composition_dict[transcript_id], reference_sequence, strand_dict[gene_name])\n",
    "            \n",
    "            header = '>' + gene_name + '-' + transcript_id\n",
    "            \n",
    "            output_file.write(format_fasta(header, r_sequence, record = 60))\n",
    "            \n",
    "            if selected_feature == 'CDS':\n",
    "                frame = frame_dict[transcript_id]\n",
    "                \n",
    "                print(header)\n",
    "                \n",
    "                if frame != 0:\n",
    "                    print(r_sequence[:frame], end = ' ')\n",
    "                    \n",
    "                print(' '.join(re.findall(r'.{,3}', r_sequence[frame:])))"
   ]
  },
  {
   "cell_type": "code",
   "execution_count": null,
   "metadata": {},
   "outputs": [],
   "source": []
  }
 ],
 "metadata": {
  "kernelspec": {
   "display_name": "Python 3 (ipykernel)",
   "language": "python",
   "name": "python3"
  },
  "language_info": {
   "codemirror_mode": {
    "name": "ipython",
    "version": 3
   },
   "file_extension": ".py",
   "mimetype": "text/x-python",
   "name": "python",
   "nbconvert_exporter": "python",
   "pygments_lexer": "ipython3",
   "version": "3.9.15"
  }
 },
 "nbformat": 4,
 "nbformat_minor": 2
}
